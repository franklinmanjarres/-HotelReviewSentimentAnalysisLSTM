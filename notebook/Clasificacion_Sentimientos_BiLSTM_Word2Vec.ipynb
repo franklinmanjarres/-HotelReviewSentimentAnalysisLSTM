{
  "cells": [
    {
      "cell_type": "markdown",
      "id": "2d0572c4",
      "metadata": {
        "id": "2d0572c4"
      },
      "source": [
        "## Sistema de Análisis de Sentimientos con LSTM y Word2Vec para Clasificación de Reseñas"
      ]
    },
    {
      "cell_type": "markdown",
      "source": [
        "### Introducción\n",
        "Este proyecto implementa un modelo de Deep Learning para clasificar reseñas de hoteles como positivas o negativas. Utiliza una red neuronal con capas LSTM bidireccionales y embeddings preentrenados de Word2Vec, junto con técnicas de procesamiento de lenguaje natural (NLTK) y optimización de dependencias."
      ],
      "metadata": {
        "id": "ahwBq-_8EOC6"
      },
      "id": "ahwBq-_8EOC6"
    },
    {
      "cell_type": "markdown",
      "source": [
        "### Temario del Proyecto: Sistema de Clasificación de Sentimientos con LSTM\n",
        "\n",
        "#### 1. Configuración Inicial y Dependencias\n",
        "\n",
        "- Instalación de bibliotecas clave: `numpy`, `tensorflow`, `gensim`, entre otras.\n",
        "- Resolución de conflictos de versiones y optimización del entorno de trabajo.\n",
        "\n",
        "#### 2. Carga y Exploración de Datos\n",
        "\n",
        "- Obtención del dataset desde GitHub (1,600 reseñas de hoteles).\n",
        "- Análisis inicial:\n",
        "  - Distribución de polaridad (positivo / negativo).\n",
        "  - Longitud de los textos.\n",
        "\n",
        "#### 3. Preprocesamiento de Texto\n",
        "\n",
        "- Limpieza de texto:\n",
        "  - Conversión a minúsculas.\n",
        "  - Eliminación de símbolos y *stopwords*.\n",
        "- Tokenización y lematización:\n",
        "  - Reducción de palabras a su raíz verbal.\n",
        "\n",
        "#### 4. Tokenización y Secuenciación\n",
        "\n",
        "- Conversión del texto en secuencias numéricas.\n",
        "- Aplicación de *padding* para estandarizar la longitud de las entradas (500 tokens).\n",
        "\n",
        "#### 5. Embeddings Preentrenados (Word2Vec)\n",
        "\n",
        "- Carga del modelo preentrenado **`word2vec-google-news-300`** (vectores de 300 dimensiones).\n",
        "- Construcción de la matriz de embeddings para las palabras del vocabulario.\n",
        "\n",
        "#### 6. Arquitectura del Modelo\n",
        "\n",
        "- Capa de `Embedding` fija (no entrenable) con vectores Word2Vec.\n",
        "- Capa **Bidireccional LSTM** (256 unidades) con `Dropout` para evitar sobreajuste.\n",
        "- Capa de salida con activación sigmoide para clasificación binaria (positivo / negativo).\n",
        "\n",
        "#### 7. Entrenamiento\n",
        "\n",
        "- División de los datos:\n",
        "  - 80% para entrenamiento.\n",
        "  - 20% para prueba.\n",
        "- Uso de **Early Stopping** para detener el entrenamiento si no mejora la pérdida de validación.\n",
        "\n",
        "#### 8. Evaluación y Resultados\n",
        "\n",
        "- Reporte de clasificación:\n",
        "  - Precisión, *recall* y F1-score.\n",
        "- Matriz de confusión.\n",
        "- Precisión final alcanzada: **92%**.\n"
      ],
      "metadata": {
        "id": "LKTyir4gAVQx"
      },
      "id": "LKTyir4gAVQx"
    },
    {
      "cell_type": "markdown",
      "id": "64471e01",
      "metadata": {
        "id": "64471e01"
      },
      "source": [
        "### 1. Instalación de Dependencias"
      ]
    },
    {
      "cell_type": "code",
      "source": [
        "#!pip install numpy==1.23.5 tensorflow==2.11.0 gensim nltk scipy pandas matplotlib seaborn scikit-learn"
      ],
      "metadata": {
        "colab": {
          "base_uri": "https://localhost:8080/"
        },
        "id": "3hAxdmLQs77p",
        "outputId": "51121354-e4d0-4766-cb1b-7cc378a1b737"
      },
      "id": "3hAxdmLQs77p",
      "execution_count": null,
      "outputs": [
        {
          "output_type": "stream",
          "name": "stdout",
          "text": [
            "Collecting numpy==1.23.5\n",
            "  Downloading numpy-1.23.5-cp311-cp311-manylinux_2_17_x86_64.manylinux2014_x86_64.whl.metadata (2.3 kB)\n",
            "\u001b[31mERROR: Ignored the following versions that require a different python version: 1.21.2 Requires-Python >=3.7,<3.11; 1.21.3 Requires-Python >=3.7,<3.11; 1.21.4 Requires-Python >=3.7,<3.11; 1.21.5 Requires-Python >=3.7,<3.11; 1.21.6 Requires-Python >=3.7,<3.11\u001b[0m\u001b[31m\n",
            "\u001b[0m\u001b[31mERROR: Could not find a version that satisfies the requirement tensorflow==2.11.0 (from versions: 2.12.0rc0, 2.12.0rc1, 2.12.0, 2.12.1, 2.13.0rc0, 2.13.0rc1, 2.13.0rc2, 2.13.0, 2.13.1, 2.14.0rc0, 2.14.0rc1, 2.14.0, 2.14.1, 2.15.0rc0, 2.15.0rc1, 2.15.0, 2.15.0.post1, 2.15.1, 2.16.0rc0, 2.16.1, 2.16.2, 2.17.0rc0, 2.17.0rc1, 2.17.0, 2.17.1, 2.18.0rc0, 2.18.0rc1, 2.18.0rc2, 2.18.0, 2.18.1, 2.19.0rc0, 2.19.0)\u001b[0m\u001b[31m\n",
            "\u001b[0m\u001b[31mERROR: No matching distribution found for tensorflow==2.11.0\u001b[0m\u001b[31m\n",
            "\u001b[0m"
          ]
        }
      ]
    },
    {
      "cell_type": "code",
      "source": [
        "%pip uninstall -y jax jaxlib"
      ],
      "metadata": {
        "colab": {
          "base_uri": "https://localhost:8080/"
        },
        "id": "ea1lqwRgs5G0",
        "outputId": "d3bd661e-1dfa-4630-be86-851917469f9a"
      },
      "id": "ea1lqwRgs5G0",
      "execution_count": null,
      "outputs": [
        {
          "output_type": "stream",
          "name": "stdout",
          "text": [
            "Found existing installation: jax 0.5.2\n",
            "Uninstalling jax-0.5.2:\n",
            "  Successfully uninstalled jax-0.5.2\n",
            "Found existing installation: jaxlib 0.5.1\n",
            "Uninstalling jaxlib-0.5.1:\n",
            "  Successfully uninstalled jaxlib-0.5.1\n"
          ]
        }
      ]
    },
    {
      "cell_type": "code",
      "source": [
        "!pip install numpy==1.24.4 scipy==1.10.1 gensim==4.3.2"
      ],
      "metadata": {
        "colab": {
          "base_uri": "https://localhost:8080/",
          "height": 914
        },
        "id": "UDjkibgXtSmk",
        "outputId": "4c3e731e-1523-4e58-e7a6-bd8f9468ff60"
      },
      "id": "UDjkibgXtSmk",
      "execution_count": null,
      "outputs": [
        {
          "output_type": "stream",
          "name": "stdout",
          "text": [
            "Collecting numpy==1.24.4\n",
            "  Downloading numpy-1.24.4-cp311-cp311-manylinux_2_17_x86_64.manylinux2014_x86_64.whl.metadata (5.6 kB)\n",
            "Collecting scipy==1.10.1\n",
            "  Downloading scipy-1.10.1-cp311-cp311-manylinux_2_17_x86_64.manylinux2014_x86_64.whl.metadata (58 kB)\n",
            "\u001b[2K     \u001b[90m━━━━━━━━━━━━━━━━━━━━━━━━━━━━━━━━━━━━━━━━\u001b[0m \u001b[32m58.9/58.9 kB\u001b[0m \u001b[31m5.6 MB/s\u001b[0m eta \u001b[36m0:00:00\u001b[0m\n",
            "\u001b[?25hCollecting gensim==4.3.2\n",
            "  Downloading gensim-4.3.2-cp311-cp311-manylinux_2_17_x86_64.manylinux2014_x86_64.whl.metadata (8.3 kB)\n",
            "Requirement already satisfied: smart-open>=1.8.1 in /usr/local/lib/python3.11/dist-packages (from gensim==4.3.2) (7.3.0.post1)\n",
            "Requirement already satisfied: wrapt in /usr/local/lib/python3.11/dist-packages (from smart-open>=1.8.1->gensim==4.3.2) (1.17.2)\n",
            "Downloading numpy-1.24.4-cp311-cp311-manylinux_2_17_x86_64.manylinux2014_x86_64.whl (17.3 MB)\n",
            "\u001b[2K   \u001b[90m━━━━━━━━━━━━━━━━━━━━━━━━━━━━━━━━━━━━━━━━\u001b[0m \u001b[32m17.3/17.3 MB\u001b[0m \u001b[31m72.0 MB/s\u001b[0m eta \u001b[36m0:00:00\u001b[0m\n",
            "\u001b[?25hDownloading scipy-1.10.1-cp311-cp311-manylinux_2_17_x86_64.manylinux2014_x86_64.whl (34.1 MB)\n",
            "\u001b[2K   \u001b[90m━━━━━━━━━━━━━━━━━━━━━━━━━━━━━━━━━━━━━━━━\u001b[0m \u001b[32m34.1/34.1 MB\u001b[0m \u001b[31m15.9 MB/s\u001b[0m eta \u001b[36m0:00:00\u001b[0m\n",
            "\u001b[?25hDownloading gensim-4.3.2-cp311-cp311-manylinux_2_17_x86_64.manylinux2014_x86_64.whl (26.7 MB)\n",
            "\u001b[2K   \u001b[90m━━━━━━━━━━━━━━━━━━━━━━━━━━━━━━━━━━━━━━━━\u001b[0m \u001b[32m26.7/26.7 MB\u001b[0m \u001b[31m59.3 MB/s\u001b[0m eta \u001b[36m0:00:00\u001b[0m\n",
            "\u001b[?25hInstalling collected packages: numpy, scipy, gensim\n",
            "  Attempting uninstall: numpy\n",
            "    Found existing installation: numpy 2.0.2\n",
            "    Uninstalling numpy-2.0.2:\n",
            "      Successfully uninstalled numpy-2.0.2\n",
            "  Attempting uninstall: scipy\n",
            "    Found existing installation: scipy 1.15.3\n",
            "    Uninstalling scipy-1.15.3:\n",
            "      Successfully uninstalled scipy-1.15.3\n",
            "\u001b[31mERROR: pip's dependency resolver does not currently take into account all the packages that are installed. This behaviour is the source of the following dependency conflicts.\n",
            "orbax-checkpoint 0.11.16 requires jax>=0.5.0, which is not installed.\n",
            "chex 0.1.89 requires jax>=0.4.27, which is not installed.\n",
            "chex 0.1.89 requires jaxlib>=0.4.27, which is not installed.\n",
            "optax 0.2.5 requires jax>=0.4.27, which is not installed.\n",
            "optax 0.2.5 requires jaxlib>=0.4.27, which is not installed.\n",
            "dopamine-rl 4.1.2 requires jax>=0.1.72, which is not installed.\n",
            "dopamine-rl 4.1.2 requires jaxlib>=0.1.51, which is not installed.\n",
            "flax 0.10.6 requires jax>=0.5.1, which is not installed.\n",
            "xarray-einstats 0.9.1 requires numpy>=1.25, but you have numpy 1.24.4 which is incompatible.\n",
            "xarray-einstats 0.9.1 requires scipy>=1.11, but you have scipy 1.10.1 which is incompatible.\n",
            "treescope 0.1.9 requires numpy>=1.25.2, but you have numpy 1.24.4 which is incompatible.\n",
            "pymc 5.23.0 requires numpy>=1.25.0, but you have numpy 1.24.4 which is incompatible.\n",
            "scikit-image 0.25.2 requires scipy>=1.11.4, but you have scipy 1.10.1 which is incompatible.\n",
            "opencv-python-headless 4.12.0.88 requires numpy<2.3.0,>=2; python_version >= \"3.9\", but you have numpy 1.24.4 which is incompatible.\n",
            "blosc2 3.5.1 requires numpy>=1.26, but you have numpy 1.24.4 which is incompatible.\n",
            "tsfresh 0.21.0 requires scipy>=1.14.0; python_version >= \"3.10\", but you have scipy 1.10.1 which is incompatible.\n",
            "tensorflow 2.18.0 requires numpy<2.1.0,>=1.26.0, but you have numpy 1.24.4 which is incompatible.\n",
            "cvxpy 1.6.7 requires scipy>=1.11.0, but you have scipy 1.10.1 which is incompatible.\n",
            "thinc 8.3.6 requires numpy<3.0.0,>=2.0.0, but you have numpy 1.24.4 which is incompatible.\u001b[0m\u001b[31m\n",
            "\u001b[0mSuccessfully installed gensim-4.3.2 numpy-1.24.4 scipy-1.10.1\n"
          ]
        },
        {
          "output_type": "display_data",
          "data": {
            "application/vnd.colab-display-data+json": {
              "pip_warning": {
                "packages": [
                  "numpy"
                ]
              },
              "id": "b246d5f02e1b42289e20174d27ccc585"
            }
          },
          "metadata": {}
        }
      ]
    },
    {
      "cell_type": "code",
      "source": [
        "#!pip install --upgrade --force-reinstall numpy==1.24.4 pandas scikit-learn"
      ],
      "metadata": {
        "id": "XhxZdaG0iH2U"
      },
      "id": "XhxZdaG0iH2U",
      "execution_count": null,
      "outputs": []
    },
    {
      "cell_type": "markdown",
      "id": "9bbfe43a",
      "metadata": {
        "id": "9bbfe43a"
      },
      "source": [
        "### 2.  Imports y Configuración Inicial"
      ]
    },
    {
      "cell_type": "code",
      "execution_count": null,
      "id": "3b5fcf5b",
      "metadata": {
        "colab": {
          "base_uri": "https://localhost:8080/"
        },
        "id": "3b5fcf5b",
        "outputId": "be207f27-6a81-4211-d98a-8c17671b4357"
      },
      "outputs": [
        {
          "output_type": "stream",
          "name": "stderr",
          "text": [
            "[nltk_data] Downloading package stopwords to /root/nltk_data...\n",
            "[nltk_data]   Unzipping corpora/stopwords.zip.\n",
            "[nltk_data] Downloading package wordnet to /root/nltk_data...\n"
          ]
        },
        {
          "output_type": "execute_result",
          "data": {
            "text/plain": [
              "True"
            ]
          },
          "metadata": {},
          "execution_count": 1
        }
      ],
      "source": [
        "import os\n",
        "import random\n",
        "\n",
        "import numpy as np\n",
        "import pandas as pd\n",
        "import matplotlib.pyplot as plt\n",
        "import seaborn as sns\n",
        "\n",
        "from sklearn.model_selection import train_test_split\n",
        "from sklearn.metrics import classification_report, confusion_matrix\n",
        "\n",
        "import gensim.downloader as api\n",
        "import nltk\n",
        "from nltk.corpus import stopwords\n",
        "from nltk.stem import WordNetLemmatizer\n",
        "\n",
        "import tensorflow as tf\n",
        "from tensorflow.keras.preprocessing.text import Tokenizer\n",
        "from tensorflow.keras.preprocessing.sequence import pad_sequences\n",
        "from tensorflow.keras.layers import Input, Embedding, Bidirectional, LSTM, Dense\n",
        "from tensorflow.keras.initializers import Constant\n",
        "from tensorflow.keras.models import Model\n",
        "from tensorflow.keras.callbacks import EarlyStopping\n",
        "\n",
        "# Reproducibilidad\n",
        "SEED = 42\n",
        "random.seed(SEED)\n",
        "np.random.seed(SEED)\n",
        "tf.random.set_seed(SEED)\n",
        "\n",
        "# Descargas de NLTK\n",
        "nltk.download('stopwords')\n",
        "nltk.download('wordnet')"
      ]
    },
    {
      "cell_type": "markdown",
      "id": "34862ef5",
      "metadata": {
        "id": "34862ef5"
      },
      "source": [
        "### 3.  Carga de Datos\n",
        "Este fragmento descarga un conjunto de datos de opiniones desde GitHub, selecciona solo dos columnas (Review y Reviewer_Score), las renombra a text y polarity, y rellena los valores faltantes propagando la última observación válida.\n",
        "\n"
      ]
    },
    {
      "cell_type": "code",
      "execution_count": null,
      "id": "296ecd79",
      "metadata": {
        "colab": {
          "base_uri": "https://localhost:8080/",
          "height": 278
        },
        "id": "296ecd79",
        "outputId": "00672046-88b9-4928-a315-788e4beddfb4"
      },
      "outputs": [
        {
          "output_type": "stream",
          "name": "stdout",
          "text": [
            "Shape: (1600, 2)\n"
          ]
        },
        {
          "output_type": "stream",
          "name": "stderr",
          "text": [
            "/tmp/ipython-input-2-566769426.py:14: FutureWarning: DataFrame.fillna with 'method' is deprecated and will raise in a future version. Use obj.ffill() or obj.bfill() instead.\n",
            "  df = df.fillna( method='ffill', axis=0)  # copia en los NaN la última observación válida, hasta encontrar la siguiente.\n"
          ]
        },
        {
          "output_type": "execute_result",
          "data": {
            "text/plain": [
              "   polarity                                               text\n",
              "0  positive  We stayed for a one night getaway with family ...\n",
              "1  positive  Triple A rate with upgrade to view room was le...\n",
              "2  positive  This comes a little late as I'm finally catchi...\n",
              "3  positive  The Omni Chicago really delivers on all fronts...\n",
              "4  positive  I asked for a high floor away from the elevato..."
            ],
            "text/html": [
              "\n",
              "  <div id=\"df-49832231-0cac-4037-b760-c19c3224bca0\" class=\"colab-df-container\">\n",
              "    <div>\n",
              "<style scoped>\n",
              "    .dataframe tbody tr th:only-of-type {\n",
              "        vertical-align: middle;\n",
              "    }\n",
              "\n",
              "    .dataframe tbody tr th {\n",
              "        vertical-align: top;\n",
              "    }\n",
              "\n",
              "    .dataframe thead th {\n",
              "        text-align: right;\n",
              "    }\n",
              "</style>\n",
              "<table border=\"1\" class=\"dataframe\">\n",
              "  <thead>\n",
              "    <tr style=\"text-align: right;\">\n",
              "      <th></th>\n",
              "      <th>polarity</th>\n",
              "      <th>text</th>\n",
              "    </tr>\n",
              "  </thead>\n",
              "  <tbody>\n",
              "    <tr>\n",
              "      <th>0</th>\n",
              "      <td>positive</td>\n",
              "      <td>We stayed for a one night getaway with family ...</td>\n",
              "    </tr>\n",
              "    <tr>\n",
              "      <th>1</th>\n",
              "      <td>positive</td>\n",
              "      <td>Triple A rate with upgrade to view room was le...</td>\n",
              "    </tr>\n",
              "    <tr>\n",
              "      <th>2</th>\n",
              "      <td>positive</td>\n",
              "      <td>This comes a little late as I'm finally catchi...</td>\n",
              "    </tr>\n",
              "    <tr>\n",
              "      <th>3</th>\n",
              "      <td>positive</td>\n",
              "      <td>The Omni Chicago really delivers on all fronts...</td>\n",
              "    </tr>\n",
              "    <tr>\n",
              "      <th>4</th>\n",
              "      <td>positive</td>\n",
              "      <td>I asked for a high floor away from the elevato...</td>\n",
              "    </tr>\n",
              "  </tbody>\n",
              "</table>\n",
              "</div>\n",
              "    <div class=\"colab-df-buttons\">\n",
              "\n",
              "  <div class=\"colab-df-container\">\n",
              "    <button class=\"colab-df-convert\" onclick=\"convertToInteractive('df-49832231-0cac-4037-b760-c19c3224bca0')\"\n",
              "            title=\"Convert this dataframe to an interactive table.\"\n",
              "            style=\"display:none;\">\n",
              "\n",
              "  <svg xmlns=\"http://www.w3.org/2000/svg\" height=\"24px\" viewBox=\"0 -960 960 960\">\n",
              "    <path d=\"M120-120v-720h720v720H120Zm60-500h600v-160H180v160Zm220 220h160v-160H400v160Zm0 220h160v-160H400v160ZM180-400h160v-160H180v160Zm440 0h160v-160H620v160ZM180-180h160v-160H180v160Zm440 0h160v-160H620v160Z\"/>\n",
              "  </svg>\n",
              "    </button>\n",
              "\n",
              "  <style>\n",
              "    .colab-df-container {\n",
              "      display:flex;\n",
              "      gap: 12px;\n",
              "    }\n",
              "\n",
              "    .colab-df-convert {\n",
              "      background-color: #E8F0FE;\n",
              "      border: none;\n",
              "      border-radius: 50%;\n",
              "      cursor: pointer;\n",
              "      display: none;\n",
              "      fill: #1967D2;\n",
              "      height: 32px;\n",
              "      padding: 0 0 0 0;\n",
              "      width: 32px;\n",
              "    }\n",
              "\n",
              "    .colab-df-convert:hover {\n",
              "      background-color: #E2EBFA;\n",
              "      box-shadow: 0px 1px 2px rgba(60, 64, 67, 0.3), 0px 1px 3px 1px rgba(60, 64, 67, 0.15);\n",
              "      fill: #174EA6;\n",
              "    }\n",
              "\n",
              "    .colab-df-buttons div {\n",
              "      margin-bottom: 4px;\n",
              "    }\n",
              "\n",
              "    [theme=dark] .colab-df-convert {\n",
              "      background-color: #3B4455;\n",
              "      fill: #D2E3FC;\n",
              "    }\n",
              "\n",
              "    [theme=dark] .colab-df-convert:hover {\n",
              "      background-color: #434B5C;\n",
              "      box-shadow: 0px 1px 3px 1px rgba(0, 0, 0, 0.15);\n",
              "      filter: drop-shadow(0px 1px 2px rgba(0, 0, 0, 0.3));\n",
              "      fill: #FFFFFF;\n",
              "    }\n",
              "  </style>\n",
              "\n",
              "    <script>\n",
              "      const buttonEl =\n",
              "        document.querySelector('#df-49832231-0cac-4037-b760-c19c3224bca0 button.colab-df-convert');\n",
              "      buttonEl.style.display =\n",
              "        google.colab.kernel.accessAllowed ? 'block' : 'none';\n",
              "\n",
              "      async function convertToInteractive(key) {\n",
              "        const element = document.querySelector('#df-49832231-0cac-4037-b760-c19c3224bca0');\n",
              "        const dataTable =\n",
              "          await google.colab.kernel.invokeFunction('convertToInteractive',\n",
              "                                                    [key], {});\n",
              "        if (!dataTable) return;\n",
              "\n",
              "        const docLinkHtml = 'Like what you see? Visit the ' +\n",
              "          '<a target=\"_blank\" href=https://colab.research.google.com/notebooks/data_table.ipynb>data table notebook</a>'\n",
              "          + ' to learn more about interactive tables.';\n",
              "        element.innerHTML = '';\n",
              "        dataTable['output_type'] = 'display_data';\n",
              "        await google.colab.output.renderOutput(dataTable, element);\n",
              "        const docLink = document.createElement('div');\n",
              "        docLink.innerHTML = docLinkHtml;\n",
              "        element.appendChild(docLink);\n",
              "      }\n",
              "    </script>\n",
              "  </div>\n",
              "\n",
              "\n",
              "    <div id=\"df-2394ff6c-11b1-461a-8050-665ffaab01af\">\n",
              "      <button class=\"colab-df-quickchart\" onclick=\"quickchart('df-2394ff6c-11b1-461a-8050-665ffaab01af')\"\n",
              "                title=\"Suggest charts\"\n",
              "                style=\"display:none;\">\n",
              "\n",
              "<svg xmlns=\"http://www.w3.org/2000/svg\" height=\"24px\"viewBox=\"0 0 24 24\"\n",
              "     width=\"24px\">\n",
              "    <g>\n",
              "        <path d=\"M19 3H5c-1.1 0-2 .9-2 2v14c0 1.1.9 2 2 2h14c1.1 0 2-.9 2-2V5c0-1.1-.9-2-2-2zM9 17H7v-7h2v7zm4 0h-2V7h2v10zm4 0h-2v-4h2v4z\"/>\n",
              "    </g>\n",
              "</svg>\n",
              "      </button>\n",
              "\n",
              "<style>\n",
              "  .colab-df-quickchart {\n",
              "      --bg-color: #E8F0FE;\n",
              "      --fill-color: #1967D2;\n",
              "      --hover-bg-color: #E2EBFA;\n",
              "      --hover-fill-color: #174EA6;\n",
              "      --disabled-fill-color: #AAA;\n",
              "      --disabled-bg-color: #DDD;\n",
              "  }\n",
              "\n",
              "  [theme=dark] .colab-df-quickchart {\n",
              "      --bg-color: #3B4455;\n",
              "      --fill-color: #D2E3FC;\n",
              "      --hover-bg-color: #434B5C;\n",
              "      --hover-fill-color: #FFFFFF;\n",
              "      --disabled-bg-color: #3B4455;\n",
              "      --disabled-fill-color: #666;\n",
              "  }\n",
              "\n",
              "  .colab-df-quickchart {\n",
              "    background-color: var(--bg-color);\n",
              "    border: none;\n",
              "    border-radius: 50%;\n",
              "    cursor: pointer;\n",
              "    display: none;\n",
              "    fill: var(--fill-color);\n",
              "    height: 32px;\n",
              "    padding: 0;\n",
              "    width: 32px;\n",
              "  }\n",
              "\n",
              "  .colab-df-quickchart:hover {\n",
              "    background-color: var(--hover-bg-color);\n",
              "    box-shadow: 0 1px 2px rgba(60, 64, 67, 0.3), 0 1px 3px 1px rgba(60, 64, 67, 0.15);\n",
              "    fill: var(--button-hover-fill-color);\n",
              "  }\n",
              "\n",
              "  .colab-df-quickchart-complete:disabled,\n",
              "  .colab-df-quickchart-complete:disabled:hover {\n",
              "    background-color: var(--disabled-bg-color);\n",
              "    fill: var(--disabled-fill-color);\n",
              "    box-shadow: none;\n",
              "  }\n",
              "\n",
              "  .colab-df-spinner {\n",
              "    border: 2px solid var(--fill-color);\n",
              "    border-color: transparent;\n",
              "    border-bottom-color: var(--fill-color);\n",
              "    animation:\n",
              "      spin 1s steps(1) infinite;\n",
              "  }\n",
              "\n",
              "  @keyframes spin {\n",
              "    0% {\n",
              "      border-color: transparent;\n",
              "      border-bottom-color: var(--fill-color);\n",
              "      border-left-color: var(--fill-color);\n",
              "    }\n",
              "    20% {\n",
              "      border-color: transparent;\n",
              "      border-left-color: var(--fill-color);\n",
              "      border-top-color: var(--fill-color);\n",
              "    }\n",
              "    30% {\n",
              "      border-color: transparent;\n",
              "      border-left-color: var(--fill-color);\n",
              "      border-top-color: var(--fill-color);\n",
              "      border-right-color: var(--fill-color);\n",
              "    }\n",
              "    40% {\n",
              "      border-color: transparent;\n",
              "      border-right-color: var(--fill-color);\n",
              "      border-top-color: var(--fill-color);\n",
              "    }\n",
              "    60% {\n",
              "      border-color: transparent;\n",
              "      border-right-color: var(--fill-color);\n",
              "    }\n",
              "    80% {\n",
              "      border-color: transparent;\n",
              "      border-right-color: var(--fill-color);\n",
              "      border-bottom-color: var(--fill-color);\n",
              "    }\n",
              "    90% {\n",
              "      border-color: transparent;\n",
              "      border-bottom-color: var(--fill-color);\n",
              "    }\n",
              "  }\n",
              "</style>\n",
              "\n",
              "      <script>\n",
              "        async function quickchart(key) {\n",
              "          const quickchartButtonEl =\n",
              "            document.querySelector('#' + key + ' button');\n",
              "          quickchartButtonEl.disabled = true;  // To prevent multiple clicks.\n",
              "          quickchartButtonEl.classList.add('colab-df-spinner');\n",
              "          try {\n",
              "            const charts = await google.colab.kernel.invokeFunction(\n",
              "                'suggestCharts', [key], {});\n",
              "          } catch (error) {\n",
              "            console.error('Error during call to suggestCharts:', error);\n",
              "          }\n",
              "          quickchartButtonEl.classList.remove('colab-df-spinner');\n",
              "          quickchartButtonEl.classList.add('colab-df-quickchart-complete');\n",
              "        }\n",
              "        (() => {\n",
              "          let quickchartButtonEl =\n",
              "            document.querySelector('#df-2394ff6c-11b1-461a-8050-665ffaab01af button');\n",
              "          quickchartButtonEl.style.display =\n",
              "            google.colab.kernel.accessAllowed ? 'block' : 'none';\n",
              "        })();\n",
              "      </script>\n",
              "    </div>\n",
              "\n",
              "    </div>\n",
              "  </div>\n"
            ],
            "application/vnd.google.colaboratory.intrinsic+json": {
              "type": "dataframe",
              "variable_name": "df",
              "summary": "{\n  \"name\": \"df\",\n  \"rows\": 1600,\n  \"fields\": [\n    {\n      \"column\": \"polarity\",\n      \"properties\": {\n        \"dtype\": \"category\",\n        \"num_unique_values\": 2,\n        \"samples\": [\n          \"negative\",\n          \"positive\"\n        ],\n        \"semantic_type\": \"\",\n        \"description\": \"\"\n      }\n    },\n    {\n      \"column\": \"text\",\n      \"properties\": {\n        \"dtype\": \"string\",\n        \"num_unique_values\": 1596,\n        \"samples\": [\n          \"We booked thru hotwire which we have a high percentage of positive outcomes. I was very happy when we saw that we would be staying at The Knickerbocker-as I had stayed when I was younger. We reserved a King Non-Smoker. Upon arriving we were told that they did not have that and we only had the choice of a Smoking room. When argued they stated 'well you booked thru hotwire so you do not have priority'. As we entered the room I noticed the bathroom door was off track and the bathroom light did not turn on. We called the front desk and they fixed the door but not the light. Later that eveing as I took a shower the seal around the shower was so poor water got all over the floor and towels. Also, I must add the room reaked of smoke. The next day when we checked the front desk clerk asked how our stay was and when we told him the problems, he told us the total and had not concern of our issues. We also checked in our bags for the day, and the bellmen came quickly and made very rude comments about us hurrying up so he could get on with his day. We realized a bit later that we forgot something in one of the bags and was told they would not get them back out. STAY AWAY-even if you get a good deal!!\\n\",\n          \"This hotel is rather stupid to be frank. It's a horrible attempt to be retro-sheek but ends up looking similar to that Saturday Night live skit where things are so sheek that they are not functional. The rooms are about the size of a shoe box and there isn't much in them. I actually like the Pedestal in the bathroom but there is no sink. I had to put my make-up on using the toliet for 5-days. It also took me 10-minutes to figure out how to turn on the shower and the bathroom is more like a closet then anything. I had guests over one evening and everyone could hear everyone pee b/c the bathroom doors aren't doors at all and there is no bathroom fan! It was just over the top for me and lots of costruction nearby to keep you up at night. On a good note, the staff are really friendly and the place is really clean. That's about the only good thing I can say about this place. I would not go back.\\n\"\n        ],\n        \"semantic_type\": \"\",\n        \"description\": \"\"\n      }\n    }\n  ]\n}"
            }
          },
          "metadata": {},
          "execution_count": 2
        }
      ],
      "source": [
        "URL = (\n",
        "    \"https://raw.githubusercontent.com/AnIsAsPe/LogisticRegression_SpamOpinion/master/Datos/deceptive-opinion.csv\"\n",
        ")\n",
        "\n",
        "df = pd.read_csv(\n",
        "    URL,\n",
        "    encoding='unicode_escape',\n",
        "    usecols =[2,4]\n",
        ").rename(columns={\n",
        "    'Review': 'text',\n",
        "    'Reviewer_Score': 'polarity'\n",
        "})\n",
        "\n",
        "df = df.fillna( method='ffill', axis=0)  # copia en los NaN la última observación válida, hasta encontrar la siguiente.\n",
        "# df.head()\n",
        "\n",
        "print(\"Shape:\", df.shape)\n",
        "df.head()"
      ]
    },
    {
      "cell_type": "markdown",
      "id": "23cf6a16",
      "metadata": {
        "id": "23cf6a16"
      },
      "source": [
        "### 4.  Exploración Rápida\n",
        "Este bloque analiza el conjunto de datos mostrando el tipo de variables, la distribución de clases (polarity) y la distribución de la longitud de las reseñas."
      ]
    },
    {
      "cell_type": "code",
      "execution_count": null,
      "id": "30d876d1",
      "metadata": {
        "colab": {
          "base_uri": "https://localhost:8080/",
          "height": 1083
        },
        "id": "30d876d1",
        "outputId": "d1571499-aa12-4abf-adda-5b616841de4a"
      },
      "outputs": [
        {
          "output_type": "stream",
          "name": "stdout",
          "text": [
            "<class 'pandas.core.frame.DataFrame'>\n",
            "RangeIndex: 1600 entries, 0 to 1599\n",
            "Data columns (total 2 columns):\n",
            " #   Column    Non-Null Count  Dtype \n",
            "---  ------    --------------  ----- \n",
            " 0   polarity  1600 non-null   object\n",
            " 1   text      1600 non-null   object\n",
            "dtypes: object(2)\n",
            "memory usage: 25.1+ KB\n"
          ]
        },
        {
          "output_type": "display_data",
          "data": {
            "text/plain": [
              "<Figure size 640x480 with 1 Axes>"
            ],
            "image/png": "[encoded data removed]"
          },
          "metadata": {}
        },
        {
          "output_type": "display_data",
          "data": {
            "text/plain": [
              "<Figure size 640x480 with 1 Axes>"
            ],
            "image/png": "[encoded data removed]"
          },
          "metadata": {}
        }
      ],
      "source": [
        "# Tipos de datos y valores nulos\n",
        "df.info()\n",
        "\n",
        "# Distribución de clases\n",
        "sns.countplot(data=df, x='polarity')\n",
        "plt.title(\"Número de reseñas positivas vs. negativas\")\n",
        "plt.show()\n",
        "\n",
        "# Distribución de la longitud (número de tokens por reseña)\n",
        "df['length'] = df['text'].astype(str).apply(lambda t: len(t.split()))\n",
        "df['length'].hist(bins=50)\n",
        "plt.title(\"Distribución de la longitud (en tokens)\")\n",
        "plt.xlabel(\"Número de tokens\")\n",
        "plt.show()"
      ]
    },
    {
      "cell_type": "markdown",
      "id": "7cd8a1d6",
      "metadata": {
        "id": "7cd8a1d6"
      },
      "source": [
        "### 5.  Preprocesamiento de Texto\n",
        "Esta función limpia y tokeniza las reseñas: convierte a minúsculas, elimina símbolos, quita stopwords y aplica lematización como verbos.\n",
        "- Se importa re para expresiones regulares.\n",
        "- Se definen las stopwords en inglés (palabras comunes como “the”, “and”, etc.).\n",
        "- Se crea un lematizador (WordNetLemmatizer) que reduce palabras a su forma base.\n",
        "\n"
      ]
    },
    {
      "cell_type": "code",
      "execution_count": null,
      "id": "f0904722",
      "metadata": {
        "id": "f0904722"
      },
      "outputs": [],
      "source": [
        "import re\n",
        "\n",
        "STOP_WORDS = set(stopwords.words('english'))\n",
        "LEMMATIZER = WordNetLemmatizer()\n",
        "\n",
        "def clean_and_tokenize(text: str) -> list:\n",
        "    \"\"\"\n",
        "    1. Convertir a minúsculas\n",
        "    2. Eliminar caracteres no alfabéticos\n",
        "    3. Tokenizar\n",
        "    4. Filtrar stopwords\n",
        "    5. Lematizar (como verbo)\n",
        "    \"\"\"\n",
        "    text = text.lower()\n",
        "    text = re.sub(r'[^a-z\\s]', ' ', text)\n",
        "    tokens = text.split()\n",
        "    tokens = [tok for tok in tokens if tok not in STOP_WORDS]\n",
        "    tokens = [LEMMATIZER.lemmatize(tok, 'v') for tok in tokens]\n",
        "    return tokens\n",
        "\n",
        "df['tokens'] = df['text'].fillna('').apply(clean_and_tokenize)"
      ]
    },
    {
      "cell_type": "markdown",
      "id": "fc9fecc7",
      "metadata": {
        "id": "fc9fecc7"
      },
      "source": [
        "### 6.  Tokenización y Secuencias\n",
        "Este bloque convierte los textos en secuencias numéricas, aplica padding, codifica las etiquetas y divide el conjunto de datos en entrenamiento y prueba.\n",
        "- Convierte los textos a listas de enteros (texts_to_sequences).\n",
        "-Se aplica padding para que todas las secuencias tengan longitud fija (MAX_LEN = 500), agregando ceros al inicio (padding='pre').\n",
        "-Tokenizer() crea un diccionario de palabras → números.\n",
        "\n",
        "- oov_token  define un token especial para palabras desconocidas.\n",
        "\n"
      ]
    },
    {
      "cell_type": "code",
      "execution_count": null,
      "id": "225f233f",
      "metadata": {
        "colab": {
          "base_uri": "https://localhost:8080/"
        },
        "id": "225f233f",
        "outputId": "4d6e0d96-49ab-42c6-b41f-c619d1de3d5a"
      },
      "outputs": [
        {
          "output_type": "stream",
          "name": "stdout",
          "text": [
            "Train shape: (1280, 500) Test shape: (320, 500)\n"
          ]
        }
      ],
      "source": [
        "# Tokenizer con manejo de OOV\n",
        "tokenizer = Tokenizer(oov_token=\"<OOV>\")\n",
        "tokenizer.fit_on_texts(df['tokens'].apply(' '.join))\n",
        "\n",
        "# Convertir textos a secuencias y aplicar padding\n",
        "sequences = tokenizer.texts_to_sequences(df['tokens'].apply(' '.join))\n",
        "MAX_LEN = 500\n",
        "X = pad_sequences(sequences, maxlen=MAX_LEN, padding='pre')\n",
        "\n",
        "# Etiquetas binarizadas\n",
        "y = df['polarity'].map({'positive': 1, 'negative': 0}).values\n",
        "\n",
        "# División en train/test\n",
        "X_train, X_test, y_train, y_test = train_test_split(\n",
        "    X, y, test_size=0.2, random_state=SEED, stratify=y\n",
        ")\n",
        "\n",
        "print(\"Train shape:\", X_train.shape, \"Test shape:\", X_test.shape)"
      ]
    },
    {
      "cell_type": "markdown",
      "id": "be91d84e",
      "metadata": {
        "id": "be91d84e"
      },
      "source": [
        "### 7.  Embeddings con Word2Vec Preentrenado\n",
        "Este bloque carga el modelo Word2Vec de Google News y construye una matriz de embeddings que mapea cada palabra del vocabulario a su vector preentrenado.\n",
        "- Se crea una matriz de ceros con una fila por palabra y 300 columnas.\n",
        "- Por cada palabra en el vocabulario del modelo, si existe en w2v, se copia su vector en la fila correspondiente.\n",
        "\n",
        "\n",
        "\n"
      ]
    },
    {
      "cell_type": "code",
      "execution_count": null,
      "id": "cecccd2b",
      "metadata": {
        "colab": {
          "base_uri": "https://localhost:8080/"
        },
        "id": "cecccd2b",
        "outputId": "6858c0f3-1cfe-4ec5-94fb-931168bd120d"
      },
      "outputs": [
        {
          "output_type": "stream",
          "name": "stdout",
          "text": [
            "[==================================================] 100.0% 1662.8/1662.8MB downloaded\n"
          ]
        }
      ],
      "source": [
        "# Carga del modelo preentrenado (primera ejecución lenta)\n",
        "w2v = api.load('word2vec-google-news-300')\n",
        "EMB_DIM = w2v.vector_size\n",
        "VOCAB_SIZE = len(tokenizer.word_index) + 1\n",
        "\n",
        "# Construcción de la matriz de embeddings\n",
        "embedding_matrix = np.zeros((VOCAB_SIZE, EMB_DIM))\n",
        "for word, idx in tokenizer.word_index.items():\n",
        "    if word in w2v:\n",
        "        embedding_matrix[idx] = w2v[word]"
      ]
    },
    {
      "cell_type": "markdown",
      "id": "8f1b9de6",
      "metadata": {
        "id": "8f1b9de6"
      },
      "source": [
        "### 8.  Definición del Modelo RNN + LSTM\n",
        "Esta función construye un modelo de red neuronal con embeddings preentrenados (no entrenables) y una capa LSTM bidireccional para clasificar reseñas como positivas o negativas.\n",
        "\n",
        "- Red LSTM con 128 unidades en cada dirección.\n",
        "- Procesa la secuencia de izquierda a derecha y de derecha a izquierda.\n",
        "- dropout y recurrent_dropout ayudan a prevenir sobreajust"
      ]
    },
    {
      "cell_type": "code",
      "source": [
        "# Construye y compila un modelo LSTM bidireccional con embeddings preentrenados (no entrenables)\n",
        "def build_model(vocab_size, emb_dim, max_len, embedding_matrix):\n",
        "    inp = Input(shape=(max_len,))\n",
        "\n",
        "    # Capa de embeddings con pesos fijos\n",
        "    x = Embedding(\n",
        "        input_dim=vocab_size,\n",
        "        output_dim=emb_dim,\n",
        "        embeddings_initializer=Constant(embedding_matrix),\n",
        "        input_length=max_len,\n",
        "        trainable=False\n",
        "    )(inp)\n",
        "\n",
        "    # Capa LSTM bidireccional con dropout para evitar sobreajuste\n",
        "    x = Bidirectional(LSTM(128, dropout=0.2, recurrent_dropout=0.2))(x)\n",
        "\n",
        "    # Capa de salida con activación sigmoide para clasificación binaria\n",
        "    out = Dense(1, activation='sigmoid')(x)\n",
        "\n",
        "    # Compilación del modelo\n",
        "    model = Model(inputs=inp, outputs=out)\n",
        "    model.compile(optimizer='adam', loss='binary_crossentropy', metrics=['accuracy'])\n",
        "    return model\n",
        "\n",
        "# Se crea el modelo y se muestra su resumen\n",
        "model = build_model(VOCAB_SIZE, EMB_DIM, MAX_LEN, embedding_matrix)\n",
        "model.summary()\n"
      ],
      "metadata": {
        "id": "ZQ3faUtM-ReG"
      },
      "id": "ZQ3faUtM-ReG",
      "execution_count": null,
      "outputs": []
    },
    {
      "cell_type": "code",
      "source": [
        "from tensorflow.keras.utils import plot_model\n",
        "plot_model(\n",
        "    model,\n",
        "    show_shapes=True,       # Muestra las dimensiones de entrada/salida por capa\n",
        "    show_layer_names=True,  # Muestra los nombres definidos en cada capa\n",
        "    expand_nested=False,    # Por si hay submodelos, no expandirlos\n",
        "    dpi=70,                 # Resolución\n",
        "    to_file='modelo_arquitectura.png'  # Guarda imagen (opcional)\n",
        ")\n"
      ],
      "metadata": {
        "colab": {
          "base_uri": "https://localhost:8080/",
          "height": 456
        },
        "id": "OHCWJzepvMie",
        "outputId": "2ed5e183-854b-4f23-8881-bf02c4e57970"
      },
      "id": "OHCWJzepvMie",
      "execution_count": null,
      "outputs": [
        {
          "output_type": "execute_result",
          "data": {
            "image/png": "[encoded data removed]",
            "text/plain": [
              "<IPython.core.display.Image object>"
            ]
          },
          "metadata": {},
          "execution_count": 9
        }
      ]
    },
    {
      "cell_type": "markdown",
      "id": "fd489e7f",
      "metadata": {
        "id": "fd489e7f"
      },
      "source": [
        "### 9.  Entrenamiento con Early Stopping\n",
        "Entrena el modelo usando EarlyStopping para evitar sobreajuste, con validación interna sobre el 20% del conjunto de entrenamiento.\n",
        "\n"
      ]
    },
    {
      "cell_type": "code",
      "source": [
        "# Detiene el entrenamiento si la pérdida de validación no mejora tras 3 épocas\n",
        "es = EarlyStopping(monitor='val_loss', patience=3, restore_best_weights=True)\n",
        "\n",
        "# Entrenamiento del modelo con validación y early stopping\n",
        "history = model.fit(\n",
        "    X_train, y_train,\n",
        "    epochs=10,\n",
        "    batch_size=96,\n",
        "    validation_split=0.2,\n",
        "    callbacks=[es],\n",
        "    verbose=2\n",
        ")"
      ],
      "metadata": {
        "id": "5Odwk2l9Bn2u"
      },
      "id": "5Odwk2l9Bn2u",
      "execution_count": null,
      "outputs": []
    },
    {
      "cell_type": "markdown",
      "id": "c93bfe3e",
      "metadata": {
        "id": "c93bfe3e"
      },
      "source": [
        "### 10.  Evaluación Final en Test Set\n",
        "Se generan predicciones sobre el conjunto de prueba, se imprimen métricas de clasificación y se visualiza la matriz de confusión."
      ]
    },
    {
      "cell_type": "code",
      "execution_count": null,
      "id": "2f72d832",
      "metadata": {
        "colab": {
          "base_uri": "https://localhost:8080/",
          "height": 680
        },
        "id": "2f72d832",
        "outputId": "67293d88-f982-4d0a-e405-6eaf48efccb3"
      },
      "outputs": [
        {
          "output_type": "stream",
          "name": "stdout",
          "text": [
            "\u001b[1m10/10\u001b[0m \u001b[32m━━━━━━━━━━━━━━━━━━━━\u001b[0m\u001b[37m\u001b[0m \u001b[1m6s\u001b[0m 508ms/step\n",
            "Classification Report:\n",
            "\n",
            "              precision    recall  f1-score   support\n",
            "\n",
            "         neg       0.90      0.93      0.92       160\n",
            "         pos       0.93      0.90      0.91       160\n",
            "\n",
            "    accuracy                           0.92       320\n",
            "   macro avg       0.92      0.92      0.92       320\n",
            "weighted avg       0.92      0.92      0.92       320\n",
            "\n"
          ]
        },
        {
          "output_type": "display_data",
          "data": {
            "text/plain": [
              "<Figure size 640x480 with 2 Axes>"
            ],
            "image/png": "[encoded data removed]"
          },
          "metadata": {}
        }
      ],
      "source": [
        "# Predicciones y métricas\n",
        "y_pred = (model.predict(X_test) > 0.5).astype(int).flatten()\n",
        "\n",
        "print(\"Classification Report:\\n\")\n",
        "print(classification_report(y_test, y_pred, target_names=['neg', 'pos']))\n",
        "\n",
        "# Matriz de Confusión\n",
        "cm = confusion_matrix(y_test, y_pred)\n",
        "sns.heatmap(cm, annot=True, fmt='d', cmap='Blues')\n",
        "plt.xlabel('Predicho')\n",
        "plt.ylabel('Verdadero')\n",
        "plt.title('Matriz de Confusión')\n",
        "plt.show()"
      ]
    },
    {
      "cell_type": "markdown",
      "id": "e2acbee0",
      "metadata": {
        "id": "e2acbee0"
      },
      "source": [
        "### 11 Conclusión\n",
        "\n",
        "El proyecto demuestra la efectividad de las redes **LSTM** con **embeddings preentrenados** para clasificar sentimientos en reseñas de hoteles. A través de un flujo estructurado —desde la gestión de dependencias y el preprocesamiento textual (limpieza, tokenización, lematización) hasta el diseño de un modelo bidireccional con Word2Vec— se logró un sistema robusto que alcanza un **92% de precisión** en datos de prueba.\n",
        "\n",
        "### Destacan dos aspectos clave:\n",
        "\n",
        "- **Optimización técnica**:  \n",
        "  El uso de embeddings congelados (no entrenables) de **Word2Vec** aceleró la convergencia y mejoró la generalización. Además, técnicas como **dropout recurrente** y **early stopping** ayudaron a mitigar el sobreajuste.\n",
        "\n",
        "- **Balance interpretativo**:  \n",
        "  La matriz de confusión y el reporte de clasificación revelan un rendimiento equilibrado entre clases (F1-score: **0.92** para ambas), lo que valida la capacidad del modelo para capturar patrones semánticos complejos en textos cortos.\n"
      ]
    }
  ],
  "metadata": {
    "colab": {
      "provenance": []
    },
    "language_info": {
      "name": "python"
    },
    "kernelspec": {
      "name": "python3",
      "display_name": "Python 3"
    }
  },
  "nbformat": 4,
  "nbformat_minor": 5
}